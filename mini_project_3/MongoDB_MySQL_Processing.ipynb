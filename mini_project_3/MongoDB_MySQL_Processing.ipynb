{
 "cells": [
  {
   "cell_type": "code",
   "execution_count": 3,
   "metadata": {},
   "outputs": [],
   "source": [
    "import pymongo\n",
    "import numpy as np\n",
    "import pandas as pd\n",
    "import seaborn as sns\n",
    "import matplotlib.pyplot as plt\n",
    "from scipy import stats\n"
   ]
  },
  {
   "cell_type": "markdown",
   "metadata": {},
   "source": [
    "## MongoDB Query and Usage"
   ]
  },
  {
   "cell_type": "code",
   "execution_count": 4,
   "metadata": {},
   "outputs": [
    {
     "name": "stderr",
     "output_type": "stream",
     "text": [
      "/usr/lib/python3/dist-packages/ipykernel_launcher.py:4: DeprecationWarning: remove is deprecated. Use delete_one or delete_many instead.\n",
      "  after removing the cwd from sys.path.\n"
     ]
    }
   ],
   "source": [
    "myclient = pymongo.MongoClient(\"mongodb://localhost:27017/\")\n",
    "mydb = myclient[\"mydatabase\"]\n",
    "mycol = mydb[\"tweets\"]\n",
    "mydb.mycol.remove({})\n",
    "myquery = { \"username\": \"Google\" }\n",
    "\n",
    "mydoc = mycol.find(myquery)\n",
    "\n",
    "sent_score_list = []\n",
    "for j in mydoc:\n",
    "    sent_score_list.append(j['score'])\n",
    "    #print(j['score'])\n",
    "\n"
   ]
  },
  {
   "cell_type": "code",
   "execution_count": 33,
   "metadata": {},
   "outputs": [],
   "source": [
    "### Delete all tweets relating to username!\n",
    "#myquery = { \"username\": \"Apple \" }\n",
    "#mycol.delete_many(myquery)"
   ]
  },
  {
   "cell_type": "code",
   "execution_count": 34,
   "metadata": {},
   "outputs": [
    {
     "data": {
      "text/plain": [
       "[Text(0, 0.5, 'Score Frequency Percentage'), Text(0.5, 0, 'Sentiment Score')]"
      ]
     },
     "execution_count": 34,
     "metadata": {},
     "output_type": "execute_result"
    },
    {
     "data": {
      "image/png": "[encoded data removed]",
      "text/plain": [
       "<Figure size 432x288 with 1 Axes>"
      ]
     },
     "metadata": {
      "needs_background": "light"
     },
     "output_type": "display_data"
    }
   ],
   "source": [
    "x = np.array(sent_score_list)\n",
    "g = sns.distplot(x);\n",
    "g.set(xlabel='Sentiment Score', ylabel='Score Frequency Percentage')"
   ]
  },
  {
   "cell_type": "code",
   "execution_count": 57,
   "metadata": {},
   "outputs": [
    {
     "name": "stdout",
     "output_type": "stream",
     "text": [
      "{'_id': ObjectId('5dedc30259e9f90dd6df4df9'), 'username': 'Google', 'product': 'Pixel 4', 'score': -0.10000000149011612, 'tweet': 'That was shot on the iPhone 11 Pro in slowmo this is from the Pixel 4 from earlier and a different angle not in slowmo TeamPixel'}\n",
      "{'_id': ObjectId('5dedc30659e9f90dd6df4e0c'), 'username': 'Google', 'product': 'Pixel 4', 'score': -0.8999999761581421, 'tweet': 'Well Google you finally did it I just embraced the other side By releasing a phone Pixel 4 XL with subpar specs mediocre battery I decided to go with the iPhone11ProMax google apple frompixel2iphone'}\n",
      "{'_id': ObjectId('5dedc30659e9f90dd6df4e0d'), 'username': 'Google', 'product': 'Pixel 4', 'score': -0.699999988079071, 'tweet': 'Yap we are in the era of the ugly phone It started with the Google pixel 4 stove cameras then iPhone stove cameras now Samsung bringing a bigger stove'}\n"
     ]
    }
   ],
   "source": [
    "# query example for tweets containing word\n",
    "import re\n",
    "\n",
    "pat = re.compile(r'iphone', re.I)\n",
    "mydoc = mycol.find({ \"tweet\": {'$regex': pat}})\n",
    "pos_score = 0\n",
    "neu_score = 0\n",
    "neg_score = 0\n",
    "for j in mydoc:\n",
    "    score = float(j['score'])\n",
    "    if score > 0:\n",
    "        pos_score += 1\n",
    "    elif score < 0:\n",
    "        neg_score += 1\n",
    "    else:\n",
    "        neu_score += 1\n",
    "        \n",
    "    print(j)"
   ]
  },
  {
   "cell_type": "code",
   "execution_count": 58,
   "metadata": {},
   "outputs": [
    {
     "data": {
      "image/png": "[encoded data removed]",
      "text/plain": [
       "<Figure size 432x288 with 1 Axes>"
      ]
     },
     "metadata": {},
     "output_type": "display_data"
    }
   ],
   "source": [
    "# Data to plot\n",
    "labels = 'Positive', 'Negative', 'Neutral'\n",
    "sizes = [pos_score, neg_score, neu_score]\n",
    "colors = ['gold', 'yellowgreen', 'lightcoral']\n",
    "explode = (0.1, 0, 0)  # explode 1st slice\n",
    "\n",
    "# Plot\n",
    "plt.pie(sizes, explode=explode, labels=labels, colors=colors,\n",
    "autopct='%1.1f%%', shadow=True, startangle=140)\n",
    "\n",
    "plt.axis('equal')\n",
    "plt.show()"
   ]
  },
  {
   "cell_type": "markdown",
   "metadata": {},
   "source": [
    "## MySQL Query and Usage"
   ]
  },
  {
   "cell_type": "code",
   "execution_count": 10,
   "metadata": {},
   "outputs": [
    {
     "name": "stdout",
     "output_type": "stream",
     "text": [
      "('Google', 'Pixel 4', 'RT Kissimmee Prairie stars for as far as the eye can see Pic is mine taken with a pixel 4 smartphone', Decimal('0.300'))\n",
      "('Google', 'Pixel 4', 'That was shot on the iPhone 11 Pro in slowmo this is from the Pixel 4 from earlier and a different angle not in slowmo TeamPixel', Decimal('-0.100'))\n",
      "('Google', 'Pixel 4', '699 Pixel 4 and 749 Pixel 4 XL to be had at Google Store this week Google', Decimal('-0.100'))\n",
      "('Google', 'Pixel 4', 'what y all did with the Pixel4 is EVIL I lost half my stuff from a concert because of the bogus original quality choice I do NOT recommend the Pixel 4 until they fix this nonsense the camera is not even that great', Decimal('-0.900'))\n",
      "('Google', 'Pixel 4', 'RT Admittedly the Night Shot option on the Pixel 4 makes suits with glow effects look awesome MFF2019', Decimal('0.900'))\n",
      "('Google', 'Pixel 4', 'RT SOOC portrait mode on Pixel 4 XL AFRICAN U21 soccer players randomly approached on the street', Decimal('-0.400'))\n",
      "('Google', 'Pixel 4', 'Admittedly the Night Shot option on the Pixel 4 makes suits with glow effects look awesome MFF2019', Decimal('0.900'))\n",
      "('Google', 'Pixel 4', 'this happens to me constantly after backing out of a DM Only way to get messages to show up again is closing and reopening the app I m on Android 10 on a Pixel 4 XL', Decimal('-0.600'))\n",
      "('Google', 'Pixel 4', 'Had the pleasure of being in the right place and time for this shot Taken on a Pixel 4 and touched up with teampixel', Decimal('0.600'))\n",
      "('Google', 'Pixel 4', 'USA I m loving it Wanted to share that Speed in the mall attached Great Device improved UI and Android 10 is awesome Device is performing better than my Pixel 4 XL', Decimal('0.900'))\n",
      "('Google', 'Pixel 4', 'are you aware of Pixel 4 Android 10 wifi issues Wifi keeps reconnecting', Decimal('-0.800'))\n",
      "('Google', 'Pixel 4', 'How to get Pixel 4 s killer Recorder app on your older Pixel', Decimal('-0.500'))\n",
      "('Google', 'Pixel 4', 'Google launched the Pixel 4 to coincide with the latest version 10 of Android Enter now to WIN a Google Pixel 4 from', Decimal('0.100'))\n",
      "('Google', 'Pixel 4', 'Had a wander around Edinburgh today it was a bit wet and my Pixel 2 camera was so amazing but wow my Pixel 4 teampixel Edinburgh', Decimal('0.500'))\n",
      "('Google', 'Pixel 4', 'RT Google brings the Pixel 4 s amazing voice recorder app to older Pixels', Decimal('0.700'))\n",
      "('Google', 'Pixel 4', 'Google brings the Pixel 4 s amazing voice recorder app to older Pixels', Decimal('0.800'))\n",
      "('Google', 'Pixel 4', 'DEAL Pixel 4 XL is 150 Off With Free Google WiFi Droid Life', Decimal('-0.100'))\n",
      "('Google', 'Pixel 4', 'Two months of delayed security updates for the Pixel 4 what gives', Decimal('-0.600'))\n",
      "('Google', 'Pixel 4', 'Google Pixel 4 XL review An excellent phone in a strengthening field', Decimal('0.800'))\n",
      "('Google', 'Pixel 4', 'RT Say what you will about the Pixel 4 The Astrophotography feature is absolutely mind blowing', Decimal('0.800'))\n",
      "('Google', 'Pixel 4', 'Well Google you finally did it I just embraced the other side By releasing a phone Pixel 4 XL with subpar specs mediocre battery I decided to go with the iPhone11ProMax google apple frompixel2iphone', Decimal('-0.900'))\n",
      "('Google', 'Pixel 4', 'Yap we are in the era of the ugly phone It started with the Google pixel 4 stove cameras then iPhone stove cameras now Samsung bringing a bigger stove', Decimal('-0.700'))\n",
      "('Google', 'Pixel 4', 'The portrait mode of the Pixel 4 is quite nice TeamPixel', Decimal('0.700'))\n",
      "('Google', 'Pixel 4', '5 Photographers That Show The Google Pixel 4 is Worth Every Penny mobilephotography', Decimal('0.700'))\n",
      "('Google', 'Pixel 4', 'Pixel 4 Lightroom', Decimal('0.100'))\n",
      "('Google', 'Pixel 4', 'Get Pixel 4 Launcher with Overview Text Selection on Any Android 10 Device', Decimal('0.500'))\n",
      "('Google', 'Pixel 4', '5 Photographers that show the Google Pixel 4 is worth every penny', Decimal('0.800'))\n",
      "('Google', 'Pixel 4', 'The Google Pixel 4 phone is here and we love it SHEmazing', Decimal('0.800'))\n",
      "('Google', 'Pixel 4', 'Pixel peeping the everyday Explore our Google Pixel 4 sample gallery', Decimal('0.100'))\n",
      "('Google', 'Pixel 4', 'Peace and quiet teampixel pixel4xl', Decimal('0.700'))\n",
      "('Google', 'Pixel 4', 'More pixel magic hiking Canada trail pixelart Pixel pixel4xl Pixel4 pixeldailies', Decimal('0.600'))\n",
      "('Google', 'Pixel 4', 'Also s o to and my new Pixel 4XL for ensuring I got to church on time this morning', Decimal('0.400'))\n",
      "('Google', 'Pixel 4', 'Battery life has been lasting me a little over 8 hours per charge I don t play games and don t run heavy apps so it is lasts longer for me I have always on turned on Soli off I love this phone it works flawlessly pixel pixel4xl teampixel', Decimal('0.900'))\n"
     ]
    }
   ],
   "source": [
    "import mysql.connector\n",
    "\n",
    "mydb = mysql.connector.connect(\n",
    "  host=\"localhost\",\n",
    "  user=\"root\",\n",
    "  passwd=\"\",\n",
    "  database=\"mydatabase\"\n",
    ")\n",
    "\n",
    "mycursor = mydb.cursor()\n",
    "mycursor.execute(\"SELECT * FROM tweets\")\n",
    "myresult = mycursor.fetchall()\n",
    "mydb.close()\n",
    "\n",
    "sent_score_list = []\n",
    "for j in myresult:\n",
    "    sent_score_list.append(float(j[3]))\n",
    "    print(j)"
   ]
  },
  {
   "cell_type": "code",
   "execution_count": null,
   "metadata": {},
   "outputs": [],
   "source": [
    "# MySQL table creation\n",
    "#CREATE TABLE tweets (\n",
    "#    username varchar(255),\n",
    "#    product varchar(255), \n",
    "#    tweet varchar(8192),\n",
    "#    score DECIMAL(5, 3)\n",
    "#);"
   ]
  },
  {
   "cell_type": "code",
   "execution_count": 11,
   "metadata": {},
   "outputs": [
    {
     "data": {
      "text/plain": [
       "[Text(0, 0.5, 'Score Frequency Percentage'), Text(0.5, 0, 'Sentiment Score')]"
      ]
     },
     "execution_count": 11,
     "metadata": {},
     "output_type": "execute_result"
    },
    {
     "data": {
      "image/png": "[encoded data removed]",
      "text/plain": [
       "<Figure size 432x288 with 1 Axes>"
      ]
     },
     "metadata": {
      "needs_background": "light"
     },
     "output_type": "display_data"
    }
   ],
   "source": [
    "x = np.array(sent_score_list)\n",
    "g = sns.distplot(x);\n",
    "g.set(xlabel='Sentiment Score', ylabel='Score Frequency Percentage')"
   ]
  },
  {
   "cell_type": "code",
   "execution_count": null,
   "metadata": {},
   "outputs": [],
   "source": []
  }
 ],
 "metadata": {
  "kernelspec": {
   "display_name": "Python 3",
   "language": "python",
   "name": "python3"
  },
  "language_info": {
   "codemirror_mode": {
    "name": "ipython",
    "version": 3
   },
   "file_extension": ".py",
   "mimetype": "text/x-python",
   "name": "python",
   "nbconvert_exporter": "python",
   "pygments_lexer": "ipython3",
   "version": "3.7.3"
  }
 },
 "nbformat": 4,
 "nbformat_minor": 2
}
