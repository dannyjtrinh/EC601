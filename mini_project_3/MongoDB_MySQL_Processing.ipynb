{
 "cells": [
  {
   "cell_type": "code",
   "execution_count": null,
   "metadata": {},
   "outputs": [],
   "source": [
    "# import pymongo\n",
    "import numpy as np\n",
    "import pandas as pd\n",
    "import seaborn as sns\n",
    "import matplotlib.pyplot as plt\n",
    "from scipy import stats\n"
   ]
  },
  {
   "cell_type": "markdown",
   "metadata": {},
   "source": [
    "## MongoDB Query and Usage"
   ]
  },
  {
   "cell_type": "code",
   "execution_count": 16,
   "metadata": {},
   "outputs": [
    {
     "name": "stderr",
     "output_type": "stream",
     "text": [
      "/usr/lib/python3/dist-packages/ipykernel_launcher.py:5: DeprecationWarning: remove is deprecated. Use delete_one or delete_many instead.\n",
      "  \"\"\"\n"
     ]
    }
   ],
   "source": [
    "myclient = pymongo.MongoClient(\"mongodb://localhost:27017/\")\n",
    "mydb = myclient[\"mydatabase\"]\n",
    "mycol = mydb[\"tweets\"]\n",
    "mydb.mycol.remove({})\n",
    "myquery = { \"username\": \"Google\" }\n",
    "\n",
    "mydoc = mycol.find(myquery)\n",
    "\n",
    "sent_score_list = []\n",
    "for j in mydoc:\n",
    "    sent_score_list.append(j['score'])\n",
    "    #print(j['score'])\n",
    "\n"
   ]
  },
  {
   "cell_type": "code",
   "execution_count": 17,
   "metadata": {},
   "outputs": [],
   "source": [
    "### Delete all tweets relating to username!\n",
    "#myquery = { \"username\": \"Google\" }\n",
    "#mycol.delete_many(myquery)"
   ]
  },
  {
   "cell_type": "code",
   "execution_count": 22,
   "metadata": {},
   "outputs": [
    {
     "data": {
      "text/plain": [
       "[Text(0, 0.5, 'Score Frequency Percentage'), Text(0.5, 0, 'Sentiment Score')]"
      ]
     },
     "execution_count": 22,
     "metadata": {},
     "output_type": "execute_result"
    },
    {
     "data": {
      "image/png": "[encoded data removed]",
      "text/plain": [
       "<Figure size 432x288 with 1 Axes>"
      ]
     },
     "metadata": {
      "needs_background": "light"
     },
     "output_type": "display_data"
    }
   ],
   "source": [
    "x = np.array(sent_score_list)\n",
    "g = sns.distplot(x);\n",
    "g.set(xlabel='Sentiment Score', ylabel='Score Frequency Percentage')"
   ]
  },
  {
   "cell_type": "markdown",
   "metadata": {},
   "source": [
    "## MySQL Query and Usage"
   ]
  },
  {
   "cell_type": "code",
   "execution_count": 46,
   "metadata": {},
   "outputs": [
    {
     "name": "stdout",
     "output_type": "stream",
     "text": [
      "('Google', 'Pixel 4', 'RT Kissimmee Prairie stars for as far as the eye can see Pic is mine taken with a pixel 4 smartphone', Decimal('0.300'))\n",
      "('Google', 'Pixel 4', 'RT SOOC portrait mode on Pixel 4 XL AFRICAN U21 soccer players randomly approached on the street', Decimal('-0.400'))\n",
      "('Google', 'Pixel 4', 'i love how he does the work pixel 4 XL officially masuk wishlist huehue', Decimal('0.100'))\n",
      "('Google', 'Pixel 4', 'Kissimmee Prairie stars for as far as the eye can see Pic is mine taken with a pixel 4 smartphone', Decimal('0.400'))\n",
      "('Google', 'Pixel 4', 'What a beauty clicked by my Pixel 4 XL GooglePixel Pixel4XL', Decimal('0.200'))\n",
      "('Google', 'Pixel 4', 'The easiest instances and covers on your Google Pixel 4 and 4 XL Video Google', Decimal('0.400'))\n",
      "('Google', 'Pixel 4', 'This week s best tales Recorder on older Pixels December 2019 patch Pixel 4 pizza containers extra Google', Decimal('-0.100'))\n",
      "('Google', 'Pixel 4', 'Pixel 4 s spectacular recorder app is now to be had for older Pixel gadgets gadgets older pixel recorder', Decimal('0.800'))\n",
      "('Google', 'Pixel 4', 'on The New Google Assistant V2 0 vs Siri On Pixel 4 XL amp iPhone 11 Pro Max 2019', Decimal('-0.300'))\n",
      "('Google', 'Pixel 4', 'Seeing s pixel 4 review in a mall is bizarre', Decimal('-0.400'))\n",
      "('Google', 'Pixel 4', 'You should look into live transcribe It s a pixel 4 feature but I believe it s on pixel 2 and 3 devices now Hopefully more in the future It s not perfect but it works on ANYTHING playing on your phone except music but it doesn t care the source app TeamPixel', Decimal('0.100'))\n",
      "('Google', 'Pixel 4', 'I is winning this whole thing and you know it I m pretty sure it s the pixel 4', Decimal('0.200'))\n",
      "('Google', 'Pixel 4', 'I ll be honest I wanted to love the pixel 4 but it s just so bad This is the first Nexus pixel device I truely dislike using Apple has won this time The battery the camera It just comes out on top in such a big way this year I m a very sad Android user today', Decimal('-0.900'))\n",
      "('Google', 'Pixel 4', 'Nationwide5G I am dreaming of the new google pixel 4', Decimal('0.600'))\n",
      "('Google', 'Pixel 4', 'I finally have my first Pixel device in the Pixel 4 XL Early Birthday present from my amazing wife I love Android I ve been a fan since day one From the T Mobile G1 to the Galaxy Nexus Nexus 4 Nexus 5 Nexus', Decimal('0.800'))\n",
      "('Google', 'Pixel 4', 'Hi the amazon India shows pixel 4 in India Do check this out its available in all launched colors', Decimal('-0.100'))\n",
      "('Google', 'Pixel 4', 'RT Happy 5G Saturday teampixel bemagenta Pixel 4', Decimal('0.300'))\n",
      "('Google', 'Pixel 4', '15 phones we loved in 2019 iPhone 11 Galaxy S10 Pixel 4 XL and more CNET GENERAL PHYSICS LABORATORY GPL 15 phones we loved in 2019 iPhone 11 Galaxy S10 Pixel 4 XL and more CNET', Decimal('0.200'))\n",
      "('Google', 'Pixel 4', 'Today Apple pay is selling really cute planters for user adoption Again predictably I have so much FOMO for not having an Apple product PS Taken on Pixel 4', Decimal('0.300'))\n",
      "('Google', 'Pixel 4', 'Pixel 4 XL STILL has serious video recording click in BOTH native camera app as well with all other social media apps from day one Even after the multiple updates system updates No change It s been 2 months Is this getting a fix or not', Decimal('-0.700'))\n",
      "('Google', 'Pixel 4', 'Hey the Home app is having some layout issues on the Pixel 4 XL', Decimal('0.100'))\n",
      "('Google', 'Pixel 4', 'RT Win a MYXfitness Plus Personal Training System amp Google Pixel 4 XL smartphone with Android Headlines', Decimal('0.100'))\n",
      "('Google', 'Pixel 4', 'For a limited time get your choice of an iPhone XR 64GB Samsung S10e 128GB LG G8 ThinQ or Google Pixel 4 64GB for just 5 month or a variety of 1 month or free devices after monthly bill credits Requires new line activation', Decimal('-0.600'))\n",
      "('Google', 'Pixel 4', 'Here it is December 7 2019 and my Pixel 4 XL is still on November security patch Main selling point of the Pixel is the updates Let s see what happens', Decimal('-0.200'))\n",
      "('Google', 'Pixel 4', 'Google releases how to educational movies for brand new Pixel 4 house owners Google', Decimal('-0.200'))\n",
      "('Google', 'Pixel 4', 'They wasted no time copying the Google pixel 4 s idea', Decimal('-0.900'))\n",
      "('Google', 'Pixel 4', 'Apple has a faster chip android has better ram Apple has way better video quality only the google pixel 4 has slight better photos Apple has a way simple UI iMessage and FaceTime Apple gt Android', Decimal('-0.100'))\n",
      "('Google', 'Pixel 4', 'The street light diagonally located across my abode went dim at just the right time to try the Pixel 4 s camera Astro mode By the time necessary tripod arrived next day the was repaired Boo But KUDOS to the Alamo City s 311 response', Decimal('0.800'))\n",
      "('Google', 'Pixel 4', 'Happy 5G Saturday teampixel bemagenta Pixel 4', Decimal('0.400'))\n",
      "('Google', 'Pixel 4', 'RT Win a MYXfitness Plus Personal Training System amp Google Pixel 4 XL smartphone with Android Headlines', Decimal('0.100'))\n",
      "('Google', 'Pixel 4', 'Thanks for nothing Link from Pixel 4 lock screen and home screen takes me to a non personalised set of results Only if I go into the Google assistant does it show me my flights', Decimal('-0.800'))\n",
      "('Google', 'Pixel 4', 'This shot is from the soon to be launched VivoV17 And I must say seriously impressed with the camera prowess of this phone This is something I can directly compare to the Google Pixel 4 HDR colours sharpness and details overall processing Everything is on point here', Decimal('0.900'))\n",
      "('Google', 'Pixel 4', 'GOOGLE PIXEL 4 S AI POWERED VOICE RECORDER AND TRANSCRIPTION APP STARTS ROLLING OUT FOR OLDER PIXEL PHONES', Decimal('-0.600'))\n",
      "('Google', 'Pixel 4', 'Please get this video to someone high up at Google I can t use the Pixel 4 XL because of my visual impairment Extremely disappointed in Google', Decimal('-0.900'))\n",
      "('Google', 'Pixel 4', 'SOOC portrait mode on Pixel 4 XL AFRICAN U21 soccer players randomly approached on the street', Decimal('-0.400'))\n",
      "('Google', 'Pixel 4', 'Google Pixel 4 exclusive recorder app now available for Pixel 2 Pixel 3 and 3A GooglePixel4 googlepixel', Decimal('-0.100'))\n",
      "('Google', 'Pixel 4', 'My first impressions of the Pixel 4 XL after spending 48 hours with Google s latest Pixel device', Decimal('-0.100'))\n",
      "('Google', 'Pixel 4', 'Google s Pixel 4 AI powered recording app is now available for Pixel 2 3 3A', Decimal('-0.400'))\n",
      "('Google', 'Pixel 4', 'Other GooglePixel phones will support Google recording app Pixel4 Pixel4XL', Decimal('-0.200'))\n",
      "('Google', 'Pixel 4', 'Pixel 4 XL amp Pixel Stand Feeling peachy TeamPixel', Decimal('0.200'))\n",
      "('Google', 'Pixel 4', 'RT 5 Photographers Show the Google Pixel 4 Is Worth Every Penny', Decimal('0.700'))\n",
      "('Google', 'Pixel 4', '5 Photographers Show the Google Pixel 4 Is Worth Every Penny', Decimal('0.700'))\n",
      "('Google', 'Pixel 4', 'That Pixel 4 quality', Decimal('0.400'))\n",
      "('Google', 'Pixel 4', 'Pixel 4 Why there are fewer and fewer reasons to get this Google phone', Decimal('-0.100'))\n",
      "('Google', 'Pixel 4', 'Here s why Google s Pixel 4 doesn t have 5G', Decimal('-0.200'))\n",
      "('Google', 'Pixel 4', 'Hahaha looks like a mutated Pixel 4', Decimal('0.200'))\n",
      "('Google', 'Pixel 4', 'RT Win a MYXfitness Plus Personal Training System amp Google Pixel 4 XL smartphone with Android Headlines', Decimal('0.100'))\n",
      "('Google', 'Pixel 4', 'December Pixel updates land 2016 Pixels get last patches Pixel 4 conspicuously absent Update Pixel 4 ETA Android Police', Decimal('-0.200'))\n",
      "('Google', 'Pixel 4', 'Just a few things I m thankful for Taken with Pixel 4 XL', Decimal('0.700'))\n",
      "('Google', 'Pixel 4', 'Transcripts are getting better all the time How to get Pixel 4 s killer Recorder app on your older Pixel', Decimal('-0.300'))\n",
      "('Google', 'Pixel 4', 'New video is live Pixel 4 XL The King of Android Let me know what you guys think will you be picking up a Pixel 4', Decimal('0.200'))\n",
      "('Google', 'Pixel 4', 'Facial recognition new colors a motion sensor Google s Pixel 4 has some great features but are they enough to justify the price tag', Decimal('-0.500'))\n",
      "('Google', 'Pixel 4', 'See attached screenshot for my internet speed I was unable to play those games on either of my Pixel 4 or Pixel 4 XL but I was able to play on my Pixelbook using the Pixelbook keyboard for interacting with the game', Decimal('-0.400'))\n",
      "('Google', 'Pixel 4', 'ccwhim 50 off Google Pixel 4 Code', Decimal('0.200'))\n",
      "('Google', 'Pixel 4', 'Google snuck an AR ad onto the back of the Pixel 4 box', Decimal('-0.100'))\n",
      "('Google', 'Pixel 4', 'Oh That was live captioning from the Pixel device itself There was a mention of bringing this feature new to Pixel 4 to older supported devices a while back Even as I type this the captiond are still showing up', Decimal('-0.400'))\n",
      "('Google', 'Pixel 4', 'Google s Pixel 4 exclusive recording app is now available for the Pixel 2 3 and 3A', Decimal('-0.200'))\n",
      "('Google', 'Pixel 4', 'Product Review 15 phones we loved in 2019 iPhone 11 Galaxy S10 Pixel 4 XL and more News', Decimal('0.300'))\n",
      "('Google', 'Pixel 4', 'I did not think there would be such a difference in the night mode between my pixel 2 and my pixel 4 clarity and sharpness', Decimal('0.800'))\n",
      "('Google', 'Pixel 4', 'I can t use my because it interferes with wireless charging on my Pixel 4 XL FirstWorldProblems', Decimal('-0.800'))\n",
      "('Google', 'Pixel 4', 'Where my Google heads at Sprint got something for yall too this week We have the Pixel 3a for 5 mo Pixel 3a XL for 10 mo and the Pixel 4 for 15 mo amp What better way to enjoy these phones than to purchase a wireless charging pad 3a amp 3aXL for 80 amp earbuds for 30', Decimal('-0.200'))\n",
      "('Google', 'Pixel 4', 'I ordered my pixel 4 xl on the 28th of Nov and still haven t received it It s been more than a week already and when I go to track shipment it just shows this Please Help', Decimal('-0.600'))\n",
      "('Google', 'Pixel 4', 'at gives his further thoughts on the PPixel4', Decimal('0.100'))\n",
      "('Google', 'Pixel 4', 'I am sure the Google Pixel 4 will do better than the iPhone 11 Pro', Decimal('0.100'))\n",
      "('Google', 'Pixel 4', 'Photo A 11 pro Photo B pixel 4', Decimal('0.200'))\n",
      "('Google', 'Pixel 4', 'I have low vision and have loved my Pixel 2 XL for the past two years The Pixel 4 XL has a huge bug that makes the phone unusable for someone with low vision such as myself Please share and make Google aware', Decimal('-0.700'))\n",
      "('Google', 'Pixel 4', 'The new Pixel 4 and Pixel 4 XL pack in face unlock allowing users to simply look at their device to securely unlock it make payments and get into apps in a flash Of course Enpass supports Face Unlock on Pixel4 Here are the details', Decimal('0.100'))\n",
      "('Google', 'Pixel 4', 'Pixel 4 I have people asking what camera I use for my photos all the time and I only have the Pixel 3 They are so good', Decimal('0.300'))\n",
      "('Google', 'Pixel 4', 'Saving this for when I get a Pixel 4', Decimal('0.300'))\n",
      "('Google', 'Pixel 4', 'RT Google brings the Pixel 4 s amazing voice recorder app to older Pixels', Decimal('0.700'))\n",
      "('Google', 'Pixel 4', 'Google brings the Pixel 4 s amazing voice recorder app to older Pixels', Decimal('0.800'))\n",
      "('Google', 'Pixel 4', 'So my iPhone x only has a few more payments before it s fully paid off I m thinking about switching from iPhone after all these years in getting a pixel 4', Decimal('-0.300'))\n",
      "('Google', 'Pixel 4', 'There is a huge bug that affects people with low vision who want to use the Pixel 4 XL and this video illustrates it I m just trying every avenue to make Google aware please watch and share this video', Decimal('-0.700'))\n",
      "('Google', 'Pixel 4', 'Pixel 4 s impressive recorder app is now available for older Pixel devices', Decimal('0.700'))\n",
      "('Google', 'Pixel 4', 'I did an upgrade offer to get a Pixel4 for nothing Love owning my own AT amp T store so I m about to carry my iPhone XS and a Pixel 4 and see what s better So nervous haven t used an android since before the iPhone3', Decimal('0.400'))\n",
      "('Google', 'Pixel 4', 'Pixel The Verge Google s Pixel 4 exclusive recording app is now available for the Pixel 2 3 and 3A', Decimal('-0.300'))\n",
      "('Google', 'Pixel 4', 'After posting my vss365 story today I ve gotten three ads for the Google Pixel 4 Yikes', Decimal('-0.500'))\n",
      "('Google', 'Pixel 4', 'The Google Recorder app on the Pixel 4 is now available to download on the Play Store for older Google Pixel devices Pixel 3 Pixel 3a Pixel 2', Decimal('-0.200'))\n",
      "('Google', 'Pixel 4', 'I ve owned all 4 generations of Pixel and this in depth take from is bang on in addressing all that is the beautiful smartphone disaster piece Own a Pixel 4XL and honestly enjoy the heck outta it', Decimal('0.700'))\n",
      "('Google', 'Pixel 4', 'this is the worst looking thing we have and we saw the Pixel 4 notch', Decimal('-0.800'))\n",
      "('Google', 'Pixel 4', 'Except for the original Pixel and Pixel XL phones What a calculated omission It just stinks of Google pushing owners of the OG Pixels hard to buy a new Pixel 4', Decimal('-0.700'))\n",
      "('Google', 'Pixel 4', 'RT Pixel 4 vs OnePlus 7T Deskwaves', Decimal('-0.100'))\n",
      "('Google', 'Pixel 4', 'RT Here s how you can get Google s Pixel4 at a measly 150 overall no trade in required', Decimal('-0.200'))\n",
      "('Google', 'Pixel 4', 'Here s how you can get Google s Pixel 4 at a measly 150 overall no trade in required', Decimal('-0.300'))\n",
      "('Google', 'Pixel 4', 'RT Google Pixel 4 s Recorder app is now available on Pixel 2 Pixel 3 Pixel 3a phones', Decimal('-0.500'))\n",
      "('Google', 'Pixel 4', 'RT I can confirm Pixel 4 battery life is not great', Decimal('-0.400'))\n",
      "('Google', 'Pixel 4', 'What the heck happened there Pixel 4 XL Was on 100 rebooted and dropped to 50', Decimal('-0.900'))\n",
      "('Google', 'Pixel 4', 'Today s event was so cool with lots of doggies A big Thank you to to make such good phone with hybrid technology between hardware and software Pixel4XL', Decimal('0.900'))\n",
      "('Google', 'Pixel 4', 'why is this popping up in all my text messages Pixel4XL', Decimal('-0.500'))\n"
     ]
    }
   ],
   "source": [
    "import mysql.connector\n",
    "\n",
    "mydb = mysql.connector.connect(\n",
    "  host=\"localhost\",\n",
    "  user=\"root\",\n",
    "  passwd=\"\",\n",
    "  database=\"mydatabase\"\n",
    ")\n",
    "\n",
    "mycursor = mydb.cursor()\n",
    "mycursor.execute(\"SELECT * FROM tweets\")\n",
    "myresult = mycursor.fetchall()\n",
    "mydb.close()\n",
    "\n",
    "sent_score_list = []\n",
    "for j in myresult:\n",
    "    sent_score_list.append(float(j[3]))\n",
    "    print(j)"
   ]
  },
  {
   "cell_type": "code",
   "execution_count": 48,
   "metadata": {},
   "outputs": [
    {
     "data": {
      "text/plain": [
       "[Text(0, 0.5, 'Score Frequency Percentage'), Text(0.5, 0, 'Sentiment Score')]"
      ]
     },
     "execution_count": 48,
     "metadata": {},
     "output_type": "execute_result"
    },
    {
     "data": {
      "image/png": "[encoded data removed]",
      "text/plain": [
       "<Figure size 432x288 with 1 Axes>"
      ]
     },
     "metadata": {
      "needs_background": "light"
     },
     "output_type": "display_data"
    }
   ],
   "source": [
    "x = np.array(sent_score_list)\n",
    "g = sns.distplot(x);\n",
    "g.set(xlabel='Sentiment Score', ylabel='Score Frequency Percentage')"
   ]
  },
  {
   "cell_type": "code",
   "execution_count": null,
   "metadata": {},
   "outputs": [],
   "source": []
  }
 ],
 "metadata": {
  "kernelspec": {
   "display_name": "Python 3",
   "language": "python",
   "name": "python3"
  },
  "language_info": {
   "codemirror_mode": {
    "name": "ipython",
    "version": 3
   },
   "file_extension": ".py",
   "mimetype": "text/x-python",
   "name": "python",
   "nbconvert_exporter": "python",
   "pygments_lexer": "ipython3",
   "version": "3.7.3"
  }
 },
 "nbformat": 4,
 "nbformat_minor": 2
}
